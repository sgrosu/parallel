{
 "cells": [
  {
   "cell_type": "code",
   "execution_count": 16,
   "metadata": {},
   "outputs": [],
   "source": [
    "import ray\n",
    "import subprocess\n",
    "import os\n",
    "import time"
   ]
  },
  {
   "cell_type": "code",
   "execution_count": 22,
   "metadata": {},
   "outputs": [],
   "source": [
    "def execute():\n",
    "    p = subprocess.Popen(['touch','file.txt'],stdout=subprocess.PIPE)\n",
    "    c = p.communicate()\n",
    "@ray.remote\n",
    "def read_folder(directory):\n",
    "    start_path = '/home/sgrosu/storage/learn/python/ray/'\n",
    "    path = start_path + directory\n",
    "    os.chdir(path)\n",
    "    p = subprocess.Popen(['ls','-al'],stdout=subprocess.PIPE)\n",
    "    c, e = p.communicate()\n",
    "    time.sleep(10)\n",
    "    os.chdir(start_path)\n",
    "    return c"
   ]
  },
  {
   "cell_type": "code",
   "execution_count": 25,
   "metadata": {},
   "outputs": [
    {
     "name": "stderr",
     "output_type": "stream",
     "text": [
      "Process STDOUT and STDERR is being redirected to /tmp/raylogs/.\n",
      "Waiting for redis server at 127.0.0.1:24554 to respond...\n",
      "Waiting for redis server at 127.0.0.1:54675 to respond...\n",
      "Starting the Plasma object store with 13.00 GB memory.\n",
      "Starting local scheduler with the following resources: {'CPU': 8, 'GPU': 1}.\n",
      "\n",
      "======================================================================\n",
      "View the web UI at http://localhost:8890/notebooks/ray_ui40316.ipynb?token=ae0798bca80402f9da2d2c514e94abb7f06ff050c5ab7bf4\n",
      "======================================================================\n",
      "\n"
     ]
    },
    {
     "data": {
      "text/plain": [
       "{'node_ip_address': '192.168.0.137',\n",
       " 'redis_address': '192.168.0.137:24554',\n",
       " 'object_store_addresses': [ObjectStoreAddress(name='/tmp/plasma_store47399473', manager_name='/tmp/plasma_manager17198547', manager_port=42791)],\n",
       " 'local_scheduler_socket_names': ['/tmp/scheduler96255202'],\n",
       " 'raylet_socket_names': [],\n",
       " 'webui_url': 'http://localhost:8890/notebooks/ray_ui40316.ipynb?token=ae0798bca80402f9da2d2c514e94abb7f06ff050c5ab7bf4'}"
      ]
     },
     "execution_count": 25,
     "metadata": {},
     "output_type": "execute_result"
    }
   ],
   "source": [
    "ray.init()"
   ]
  },
  {
   "cell_type": "code",
   "execution_count": 20,
   "metadata": {},
   "outputs": [
    {
     "name": "stdout",
     "output_type": "stream",
     "text": [
      "/home/sgrosu/storage/learn/python/ray/dir1\n",
      "/home/sgrosu/storage/learn/python/ray/dir3\n",
      "/home/sgrosu/storage/learn/python/ray/dir4\n",
      "/home/sgrosu/storage/learn/python/ray/.ipynb_checkpoints\n",
      "/home/sgrosu/storage/learn/python/ray/dir2\n"
     ]
    }
   ],
   "source": [
    "# create the files in directory sequentially\n",
    "os.chdir('/home/sgrosu/storage/learn/python/ray/')\n",
    "for folder in os.listdir('.'):\n",
    "    #os.chdir(folder)\n",
    "    path = os.path.join(os.getcwd(),folder)\n",
    "    if os.path.isdir(path):\n",
    "        print(path)\n",
    "        os.chdir(path)\n",
    "        execute()\n",
    "        os.chdir('/home/sgrosu/storage/learn/python/ray/')\n",
    "    \n",
    "    #print(path)"
   ]
  },
  {
   "cell_type": "code",
   "execution_count": 26,
   "metadata": {},
   "outputs": [
    {
     "data": {
      "text/plain": [
       "[b'total 12\\ndrwxr-xr-x 3 sgrosu sgrosu 4096 Oct 21 10:41 .\\ndrwxr-xr-x 7 sgrosu sgrosu 4096 Oct 21 11:09 ..\\n-rw-r--r-- 1 sgrosu sgrosu    0 Oct 21 10:41 file.txt\\ndrwxr-xr-x 2 sgrosu sgrosu 4096 Oct 21 10:37 .ipynb_checkpoints\\n',\n",
       " b'total 8\\ndrwxr-xr-x 2 sgrosu sgrosu 4096 Oct 21 10:41 .\\ndrwxr-xr-x 7 sgrosu sgrosu 4096 Oct 21 11:09 ..\\n-rw-r--r-- 1 sgrosu sgrosu    0 Oct 21 10:41 file.txt\\n',\n",
       " b'total 8\\ndrwxr-xr-x 2 sgrosu sgrosu 4096 Oct 21 10:41 .\\ndrwxr-xr-x 7 sgrosu sgrosu 4096 Oct 21 11:09 ..\\n-rw-r--r-- 1 sgrosu sgrosu    0 Oct 21 10:41 file.txt\\n',\n",
       " b'total 12\\ndrwxr-xr-x 2 sgrosu sgrosu 4096 Oct 21 10:41 .\\ndrwxr-xr-x 7 sgrosu sgrosu 4096 Oct 21 11:09 ..\\n-rw-r--r-- 1 sgrosu sgrosu    0 Oct 21 10:41 file.txt\\n-rw-r--r-- 1 sgrosu sgrosu 1459 Oct 21 10:37 paralel-checkpoint.ipynb\\n',\n",
       " b'total 8\\ndrwxr-xr-x 2 sgrosu sgrosu 4096 Oct 21 10:41 .\\ndrwxr-xr-x 7 sgrosu sgrosu 4096 Oct 21 11:09 ..\\n-rw-r--r-- 1 sgrosu sgrosu    0 Oct 21 10:41 file.txt\\n']"
      ]
     },
     "execution_count": 26,
     "metadata": {},
     "output_type": "execute_result"
    }
   ],
   "source": [
    "ray.get([read_folder.remote(folder) for folder in os.listdir('.') if os.path.isdir(os.path.join(os.getcwd(),folder))])"
   ]
  }
 ],
 "metadata": {
  "kernelspec": {
   "display_name": "Python 3",
   "language": "python",
   "name": "python3"
  },
  "language_info": {
   "codemirror_mode": {
    "name": "ipython",
    "version": 3
   },
   "file_extension": ".py",
   "mimetype": "text/x-python",
   "name": "python",
   "nbconvert_exporter": "python",
   "pygments_lexer": "ipython3",
   "version": "3.6.5"
  }
 },
 "nbformat": 4,
 "nbformat_minor": 2
}
